{
  "cells": [
    {
      "cell_type": "markdown",
      "metadata": {},
      "source": [
        "# COMP647 Assignment 2 — Height Impact on Volleyball Performance\n",
        "\n",
        "## Research Question\n",
        "How does player height influence performance across positions (attack, block, defense) in VNL 2024?\n",
        "\n",
        "## Datasets\n",
        "- `VNL2024Men_Players.csv`: player info (name, position, height, birth year)\n",
        "- `VNL2024Men_Attackers.csv`: attack metrics\n",
        "- `VNL2024Men_Blockers.csv`: block metrics\n",
        "- `VNL2024Men_Scorers.csv`: scoring metrics\n"
      ]
    },
    {
      "cell_type": "markdown",
      "metadata": {},
      "source": [
        "## 1. Import Necessary Libraries\n"
      ]
    },
    {
      "cell_type": "code",
      "execution_count": null,
      "metadata": {},
      "outputs": [],
      "source": [
        "import pandas as pd  # Data manipulation and analysis\n",
        "import numpy as np   # Numerical operations and array handling\n",
        "import matplotlib.pyplot as plt  # Basic plotting\n",
        "import seaborn as sns  # Advanced plotting\n",
        "from scipy import stats  # Statistical functions and tests\n",
        "import warnings\n",
        "warnings.filterwarnings('ignore')\n",
        "\n",
        "# Set pandas display options\n",
        "pd.set_option('display.max_columns', None)\n",
        "pd.set_option('display.max_rows', None)\n",
        "\n",
        "# Set plotting style\n",
        "plt.style.use('default')\n",
        "sns.set_palette(\"husl\")\n",
        "\n",
        "print(\"Libraries imported successfully!\")\n"
      ]
    },
    {
      "cell_type": "markdown",
      "metadata": {},
      "source": [
        "## 2. Load Data & Overview\n"
      ]
    },
    {
      "cell_type": "code",
      "execution_count": null,
      "metadata": {},
      "outputs": [],
      "source": [
        "# Load basic player information data\n",
        "players_df = pd.read_csv('COMP647 Assessment 2 DATA/VNL2024Men_Players.csv')\n",
        "\n",
        "print(\"Player basic information data loaded successfully!\")\n",
        "print(f\"Data shape: {players_df.shape}\")\n",
        "print(\"\\nFirst 5 rows of data:\")\n",
        "players_df.head()\n"
      ]
    },
    {
      "cell_type": "code",
      "execution_count": null,
      "metadata": {},
      "outputs": [],
      "source": [
        "# View basic data information\n",
        "print(\"Data information:\")\n",
        "players_df.info()\n",
        "\n",
        "print(\"\\nDescriptive statistics:\")\n",
        "players_df.describe()\n"
      ]
    },
    {
      "cell_type": "markdown",
      "metadata": {},
      "source": [
        "### Position Distribution\n",
        "We start with how players are spread across positions. It sets the context for later comparisons.\n"
      ]
    },
    {
      "cell_type": "code",
      "execution_count": null,
      "metadata": {},
      "outputs": [],
      "source": [
        "# View position distribution\n",
        "print(\"Position distribution:\")\n",
        "position_counts = players_df['Position'].value_counts()\n",
        "print(position_counts)\n",
        "\n",
        "# Visualize position distribution\n",
        "plt.figure(figsize=(10, 6))\n",
        "sns.countplot(data=players_df, x='Position')\n",
        "plt.title('Player Position Distribution')\n",
        "plt.xlabel('Position')\n",
        "plt.ylabel('Number of Players')\n",
        "plt.xticks(rotation=45)\n",
        "plt.tight_layout()\n",
        "plt.show()\n"
      ]
    },
    {
      "cell_type": "markdown",
      "metadata": {},
      "source": [
        "## 3. Data Preprocessing\n"
      ]
    },
    {
      "cell_type": "markdown",
      "metadata": {},
      "source": [
        "### Preprocessing Summary (players_df)\n"
      ]
    },
    {
      "cell_type": "code",
      "execution_count": null,
      "metadata": {},
      "outputs": [],
      "source": [
        "# Check for missing values\n",
        "print(\"Missing values check:\")\n",
        "missing_values = players_df.isnull().sum()\n",
        "print(missing_values)\n",
        "\n",
        "# Check for duplicate values\n",
        "print(\"\\nDuplicate values check:\")\n",
        "duplicate_count = players_df.duplicated().sum()\n",
        "print(f\"Number of duplicate rows: {duplicate_count}\")\n",
        "\n",
        "# Preserve original data for visualization comparison\n",
        "players_df_raw = players_df.copy()\n",
        "\n",
        "# Check for outliers (height) using IQR method\n",
        "print(\"\\nHeight outliers check using IQR method:\")\n",
        "height_stats = players_df['Height'].describe()\n",
        "print(height_stats)\n",
        "\n",
        "# IQR method for outlier detection\n",
        "Q1 = players_df['Height'].quantile(0.25)\n",
        "Q3 = players_df['Height'].quantile(0.75)\n",
        "IQR = Q3 - Q1\n",
        "lower_bound = Q1 - 1.5 * IQR\n",
        "upper_bound = Q3 + 1.5 * IQR\n",
        "\n",
        "print(f\"\\nIQR bounds:\")\n",
        "print(f\"Lower bound: {lower_bound:.2f} cm\")\n",
        "print(f\"Upper bound: {upper_bound:.2f} cm\")\n",
        "\n",
        "# Identify outliers\n",
        "outliers = players_df[(players_df['Height'] < lower_bound) | (players_df['Height'] > upper_bound)]\n",
        "print(f\"Number of height outliers: {len(outliers)}\")\n",
        "\n",
        "# Check for unusual height values\n",
        "print(f\"\\nHeight range: {players_df['Height'].min()} - {players_df['Height'].max()} cm\")\n",
        "print(f\"Height standard deviation: {players_df['Height'].std():.2f} cm\")\n",
        "\n",
        "# Z-score method for outlier detection\n",
        "from scipy import stats\n",
        "z_scores = np.abs(stats.zscore(players_df['Height']))\n",
        "outliers_zscore = players_df[z_scores > 3]\n",
        "print(f\"Number of height outliers (Z-score > 3): {len(outliers_zscore)}\")\n",
        "\n",
        "# === OUTLIER HANDLING ===\n",
        "print(\"\\n=== OUTLIER HANDLING ===\")\n",
        "\n",
        "# Method 1: IQR-based outlier removal\n",
        "players_df_cleaned_iqr = players_df[(players_df['Height'] >= lower_bound) & (players_df['Height'] <= upper_bound)].copy()\n",
        "print(f\"Data after IQR outlier removal: {players_df_cleaned_iqr.shape[0]} rows (removed {len(players_df) - len(players_df_cleaned_iqr)} outliers)\")\n",
        "\n",
        "# Method 2: Z-score based outlier removal\n",
        "players_df_cleaned_zscore = players_df[z_scores <= 3].copy()\n",
        "print(f\"Data after Z-score outlier removal: {players_df_cleaned_zscore.shape[0]} rows (removed {len(players_df) - len(players_df_cleaned_zscore)} outliers)\")\n",
        "\n",
        "# Method 3: Outlier replacement with median\n",
        "players_df_replaced = players_df.copy()\n",
        "height_median = players_df['Height'].median()\n",
        "outlier_mask = (players_df['Height'] < lower_bound) | (players_df['Height'] > upper_bound)\n",
        "players_df_replaced.loc[outlier_mask, 'Height'] = height_median\n",
        "print(f\"Data after outlier replacement: {players_df_replaced.shape[0]} rows (replaced {outlier_mask.sum()} outliers with median: {height_median:.2f} cm)\")\n",
        "\n",
        "# Use IQR-cleaned data for further analysis\n",
        "players_df = players_df_cleaned_iqr.copy()\n",
        "print(f\"\\nUsing IQR-cleaned data for further analysis: {players_df.shape}\")\n",
        "\n",
        "# Visualize the effect of outlier handling using the true original data\n",
        "plt.figure(figsize=(15, 5))\n",
        "\n",
        "plt.subplot(1, 3, 1)\n",
        "sns.boxplot(y=players_df_raw['Height'])\n",
        "plt.title('Original Height Distribution')\n",
        "plt.ylabel('Height (cm)')\n",
        "\n",
        "plt.subplot(1, 3, 2)\n",
        "sns.boxplot(y=players_df_cleaned_iqr['Height'])\n",
        "plt.title('After IQR Outlier Removal')\n",
        "plt.ylabel('Height (cm)')\n",
        "\n",
        "plt.subplot(1, 3, 3)\n",
        "sns.boxplot(y=players_df_replaced['Height'])\n",
        "plt.title('After Outlier Replacement')\n",
        "plt.ylabel('Height (cm)')\n",
        "\n",
        "plt.tight_layout()\n",
        "plt.show()\n"
      ]
    },
    {
      "cell_type": "markdown",
      "metadata": {},
      "source": [
        "### Preprocessing: decisions and justifications\n",
        "- Why IQR for outliers: Height is bounded and may contain a few extreme values; IQR is robust to non-normality and keeps central 50% structure. Z-score is also computed for reference but is more sensitive to distributional shape.\n",
        "- Why median for performance metrics: Distributions are often skewed with outliers; the median is robust and preserves central tendency without being pulled by extremes. Mean imputation was avoided for this reason.\n",
        "- Why not forward-fill Birth_Year: It is not a time series per player; ffill would fabricate structure. We either keep as-is or drop rows in analyses if needed.\n",
        "- Why not impute Height in merged_df: Height is a key independent variable; imputing could bias relationships. Analyses that require Height use dropna on that field.\n"
      ]
    },
    {
      "cell_type": "markdown",
      "metadata": {},
      "source": [
        "### Height Distribution\n",
        "Quick check of overall height spread and outliers before linking height to performance.\n"
      ]
    },
    {
      "cell_type": "markdown",
      "metadata": {},
      "source": [
        "## 4. Age Calculation and Distribution Analysis\n"
      ]
    },
    {
      "cell_type": "code",
      "execution_count": null,
      "metadata": {},
      "outputs": [],
      "source": [
        "# Calculate age (based on 2024)\n",
        "players_df['Age'] = 2024 - players_df['Birth_Year']\n",
        "\n",
        "# View age distribution\n",
        "print(\"Age statistics:\")\n",
        "print(players_df['Age'].describe())\n",
        "\n",
        "# Visualize age distribution\n",
        "plt.figure(figsize=(12, 5))\n",
        "\n",
        "plt.subplot(1, 2, 1)\n",
        "sns.histplot(players_df['Age'], bins=20, kde=True)\n",
        "plt.title('Age Distribution')\n",
        "plt.xlabel('Age')\n",
        "plt.ylabel('Frequency')\n",
        "\n",
        "plt.subplot(1, 2, 2)\n",
        "sns.boxplot(data=players_df, y='Age')\n",
        "plt.title('Age Box Plot')\n",
        "plt.ylabel('Age')\n",
        "\n",
        "plt.tight_layout()\n",
        "plt.show()\n"
      ]
    },
    {
      "cell_type": "markdown",
      "metadata": {},
      "source": [
        "### Height by Position\n",
        "To see role-specific height profiles and whether some roles are consistently taller.\n"
      ]
    },
    {
      "cell_type": "markdown",
      "metadata": {},
      "source": [
        "## 5. Height Analysis\n"
      ]
    },
    {
      "cell_type": "code",
      "execution_count": null,
      "metadata": {},
      "outputs": [],
      "source": [
        "# Height basic statistics\n",
        "print(\"Height statistics:\")\n",
        "print(players_df['Height'].describe())\n",
        "\n",
        "# Visualize height distribution\n",
        "plt.figure(figsize=(12, 5))\n",
        "\n",
        "plt.subplot(1, 2, 1)\n",
        "sns.histplot(players_df['Height'], bins=20, kde=True)\n",
        "plt.title('Height Distribution')\n",
        "plt.xlabel('Height (cm)')\n",
        "plt.ylabel('Frequency')\n",
        "\n",
        "plt.subplot(1, 2, 2)\n",
        "sns.boxplot(data=players_df, y='Height')\n",
        "plt.title('Height Box Plot')\n",
        "plt.ylabel('Height (cm)')\n",
        "\n",
        "plt.tight_layout()\n",
        "plt.show()\n"
      ]
    },
    {
      "cell_type": "markdown",
      "metadata": {},
      "source": [
        "## 6. Load Performance Data and Merge\n"
      ]
    },
    {
      "cell_type": "code",
      "execution_count": null,
      "metadata": {},
      "outputs": [],
      "source": [
        "# Height distribution by position\n",
        "plt.figure(figsize=(15, 6))\n",
        "\n",
        "plt.subplot(1, 2, 1)\n",
        "sns.boxplot(data=players_df, x='Position', y='Height')\n",
        "plt.title('Height Distribution by Position')\n",
        "plt.xlabel('Position')\n",
        "plt.ylabel('Height (cm)')\n",
        "plt.xticks(rotation=45)\n",
        "\n",
        "plt.subplot(1, 2, 2)\n",
        "sns.violinplot(data=players_df, x='Position', y='Height')\n",
        "plt.title('Height Density Distribution by Position')\n",
        "plt.xlabel('Position')\n",
        "plt.ylabel('Height (cm)')\n",
        "plt.xticks(rotation=45)\n",
        "\n",
        "plt.tight_layout()\n",
        "plt.show()\n"
      ]
    },
    {
      "cell_type": "code",
      "execution_count": null,
      "metadata": {},
      "outputs": [],
      "source": [
        "# Height statistics by position\n",
        "height_by_position = players_df.groupby('Position')['Height'].agg(['count', 'mean', 'std', 'min', 'max']).round(2)\n",
        "print(\"Height statistics by position:\")\n",
        "print(height_by_position)\n",
        "\n",
        "# Visualize average height by position\n",
        "plt.figure(figsize=(10, 6))\n",
        "avg_height = players_df.groupby('Position')['Height'].mean().sort_values(ascending=False)\n",
        "sns.barplot(x=avg_height.index, y=avg_height.values)\n",
        "plt.title('Average Height by Position')\n",
        "plt.xlabel('Position')\n",
        "plt.ylabel('Average Height (cm)')\n",
        "plt.xticks(rotation=45)\n",
        "plt.tight_layout()\n",
        "plt.show()\n"
      ]
    },
    {
      "cell_type": "markdown",
      "metadata": {},
      "source": [
        "### Correlation Heatmap\n",
        "A quick look at how height relates to the main performance metrics. Warmer colors mean stronger positive relationships.\n"
      ]
    },
    {
      "cell_type": "markdown",
      "metadata": {},
      "source": [
        "## 7. Exploratory Data Analysis (Core Visuals)\n"
      ]
    },
    {
      "cell_type": "markdown",
      "metadata": {},
      "source": [
        "### Height vs Performance (by position)\n",
        "Scatter plots with a simple trend. This helps see whether taller players tend to perform better on attack, block, or overall points across positions.\n"
      ]
    },
    {
      "cell_type": "markdown",
      "metadata": {},
      "source": [
        "### Missing Value Treatment (merged_df)\n",
        "This subsection documents how missing values in the merged dataset are handled. The implementation follows immediately below (median for numeric performance metrics, mode for categorical), with before/after counts visualized.\n"
      ]
    },
    {
      "cell_type": "markdown",
      "metadata": {},
      "source": [
        "\n"
      ]
    },
    {
      "cell_type": "markdown",
      "metadata": {},
      "source": [
        "### One-way ANOVA\n",
        "We check whether average height differs by position. If p < 0.05, the difference is statistically meaningful.\n"
      ]
    },
    {
      "cell_type": "markdown",
      "metadata": {},
      "source": [
        "### Merge overview\n",
        "We bring attack/block/scoring tables together with players to run consistent analyses.\n"
      ]
    },
    {
      "cell_type": "code",
      "execution_count": null,
      "metadata": {},
      "outputs": [],
      "source": [
        "# Load performance data\n",
        "attackers_df = pd.read_csv('COMP647 Assessment 2 DATA/VNL2024Men_Attackers.csv')\n",
        "blockers_df = pd.read_csv('COMP647 Assessment 2 DATA/VNL2024Men_Blockers.csv')\n",
        "scorers_df = pd.read_csv('COMP647 Assessment 2 DATA/VNL2024Men_Scorers.csv')\n",
        "\n",
        "print(\"Performance data loaded successfully!\")\n",
        "print(f\"Attackers data: {attackers_df.shape}\")\n",
        "print(f\"Blockers data: {blockers_df.shape}\")\n",
        "print(f\"Scorers data: {scorers_df.shape}\")\n",
        "\n",
        "# Display first few rows of each dataset\n",
        "print(\"\\nAttackers data sample:\")\n",
        "print(attackers_df.head())\n",
        "print(\"\\nBlockers data sample:\")\n",
        "print(blockers_df.head())\n",
        "print(\"\\nScorers data sample:\")\n",
        "print(scorers_df.head())\n"
      ]
    },
    {
      "cell_type": "markdown",
      "metadata": {},
      "source": [
        "<!-- Consolidated into section 8: Statistical Analysis and Hypothesis Testing -->\n"
      ]
    },
    {
      "cell_type": "code",
      "execution_count": null,
      "metadata": {},
      "outputs": [],
      "source": [
        "# Merge data\n",
        "# First merge with attackers data\n",
        "merged_df = players_df.merge(attackers_df, on=['Name', 'Team'], how='left')\n",
        "\n",
        "# Merge with blockers data\n",
        "merged_df = merged_df.merge(blockers_df, on=['Name', 'Team'], how='left')\n",
        "\n",
        "# Merge with scorers data\n",
        "merged_df = merged_df.merge(scorers_df, on=['Name', 'Team'], how='left')\n",
        "\n",
        "print(f\"Merged data shape: {merged_df.shape}\")\n",
        "print(\"\\nMerged data columns:\")\n",
        "print(merged_df.columns.tolist())\n",
        "\n",
        "# Check for missing values in merged data\n",
        "print(\"\\nMissing values in merged data:\")\n",
        "missing_merged = merged_df.isnull().sum()\n",
        "print(missing_merged[missing_merged > 0])\n",
        "\n",
        "# Handle missing values using appropriate methods\n",
        "print(\"\\n=== Missing Value Treatment (Simplified & Justified) ===\")\n",
        "\n",
        "# Store original missing value counts for comparison\n",
        "original_missing = merged_df.isnull().sum()\n",
        "print(\"Original missing values:\")\n",
        "print(original_missing[original_missing > 0])\n",
        "\n",
        "# 1) Numerical performance columns: median imputation (robust to outliers)\n",
        "performance_cols = ['p_Attack', 'p_Block', 'Tot_Pts', 'Pt_Attack', 'Pt_Block', 'Err_Attack', 'Err_Block']\n",
        "print(\"\\n--- Numerical (median imputation) ---\")\n",
        "for col in performance_cols:\n",
        "    if col in merged_df.columns:\n",
        "        missing_count = merged_df[col].isnull().sum()\n",
        "        if missing_count > 0:\n",
        "            median_value = merged_df[col].median()\n",
        "            merged_df[col] = merged_df[col].fillna(median_value)\n",
        "            print(f\"Filled {missing_count} missing in {col} with median {median_value:.2f}\")\n",
        "\n",
        "# 2) Categorical columns: mode imputation\n",
        "categorical_cols = ['Position']\n",
        "print(\"\\n--- Categorical (mode imputation) ---\")\n",
        "for col in categorical_cols:\n",
        "    if col in merged_df.columns:\n",
        "        missing_count = merged_df[col].isnull().sum()\n",
        "        if missing_count > 0:\n",
        "            mode_value = merged_df[col].mode()[0]\n",
        "            merged_df[col] = merged_df[col].fillna(mode_value)\n",
        "            print(f\"Filled {missing_count} missing in {col} with mode '{mode_value}'\")\n",
        "\n",
        "# 3) Do NOT forward-fill Birth_Year (not a time series). Leave as is or drop rows during analyses if needed.\n",
        "# 4) Do NOT impute Height here to avoid biasing core independent variable. Analyses will use dropna where required.\n",
        "\n",
        "# Verify missing values are handled where intended\n",
        "print(\"\\n=== Missing Values After Treatment ===\")\n",
        "missing_after = merged_df.isnull().sum()\n",
        "remaining_missing = missing_after[missing_after > 0]\n",
        "print(remaining_missing if len(remaining_missing) > 0 else \"None\")\n",
        "\n",
        "# Visualize before vs after for columns we imputed\n",
        "cols_imputed = [c for c in performance_cols + categorical_cols if c in merged_df.columns]\n",
        "if len(cols_imputed) > 0:\n",
        "    plt.figure(figsize=(12, 6))\n",
        "\n",
        "    plt.subplot(1, 2, 1)\n",
        "    missing_before = original_missing[cols_imputed]\n",
        "    sns.barplot(x=missing_before.values, y=missing_before.index)\n",
        "    plt.title('Missing Values Before (Imputed Columns)')\n",
        "    plt.xlabel('Count')\n",
        "\n",
        "    plt.subplot(1, 2, 2)\n",
        "    missing_after_plot = missing_after[cols_imputed]\n",
        "    sns.barplot(x=missing_after_plot.values, y=missing_after_plot.index)\n",
        "    plt.title('Missing Values After (Imputed Columns)')\n",
        "    plt.xlabel('Count')\n",
        "\n",
        "    plt.tight_layout()\n",
        "    plt.show()\n"
      ]
    },
    {
      "cell_type": "markdown",
      "metadata": {},
      "source": [
        "Note: This heatmap summarizes linear associations among Height, Age, and key performance metrics. It provides a high-level signal to prioritize which relationships to inspect with scatter plots and tests (not causal).\n"
      ]
    },
    {
      "cell_type": "markdown",
      "metadata": {},
      "source": [
        "Note: Scatter plots show direction and dispersion by position. Expect stronger positive trend for blocking vs height, moderate for attacking, and broader variance across roles.\n"
      ]
    },
    {
      "cell_type": "markdown",
      "metadata": {},
      "source": [
        "## 8. Height vs Performance\n"
      ]
    },
    {
      "cell_type": "code",
      "execution_count": null,
      "metadata": {},
      "outputs": [],
      "source": [
        "# Calculate correlation between height and performance metrics\n",
        "correlation_cols = ['Height', 'Age', 'p_Attack', 'p_Block', 'Tot_Pts']\n",
        "correlation_data = merged_df[correlation_cols].corr()\n",
        "\n",
        "print(\"Correlation between height and performance metrics:\")\n",
        "print(correlation_data)\n",
        "\n",
        "# Visualize correlation matrix\n",
        "plt.figure(figsize=(10, 8))\n",
        "sns.heatmap(correlation_data, annot=True, cmap='coolwarm', center=0, \n",
        "            square=True, linewidths=0.5)\n",
        "plt.title('Correlation Matrix: Height vs Performance')\n",
        "plt.tight_layout()\n",
        "plt.show()\n"
      ]
    },
    {
      "cell_type": "markdown",
      "metadata": {},
      "source": [
        "Note: One-way ANOVA tests if mean Height differs across positions. We consider p<0.05 as evidence of at least one group mean difference (post-hoc tests optional if needed).\n"
      ]
    },
    {
      "cell_type": "markdown",
      "metadata": {},
      "source": [
        "### Height vs Performance Relationships\n"
      ]
    },
    {
      "cell_type": "code",
      "execution_count": null,
      "metadata": {},
      "outputs": [],
      "source": [
        "# Height vs performance relationships\n",
        "plt.figure(figsize=(15, 5))\n",
        "\n",
        "plt.subplot(1, 3, 1)\n",
        "sns.scatterplot(data=merged_df, x='Height', y='p_Attack', hue='Position')\n",
        "plt.title('Height vs Attack Efficiency')\n",
        "plt.xlabel('Height (cm)')\n",
        "plt.ylabel('Attack Efficiency (%)')\n",
        "\n",
        "plt.subplot(1, 3, 2)\n",
        "sns.scatterplot(data=merged_df, x='Height', y='p_Block', hue='Position')\n",
        "plt.title('Height vs Block Efficiency')\n",
        "plt.xlabel('Height (cm)')\n",
        "plt.ylabel('Block Efficiency (%)')\n",
        "\n",
        "plt.subplot(1, 3, 3)\n",
        "sns.scatterplot(data=merged_df, x='Height', y='Tot_Pts', hue='Position')\n",
        "plt.title('Height vs Total Points')\n",
        "plt.xlabel('Height (cm)')\n",
        "plt.ylabel('Total Points')\n",
        "\n",
        "plt.tight_layout()\n",
        "plt.show()\n"
      ]
    },
    {
      "cell_type": "markdown",
      "metadata": {},
      "source": [
        "## 9. Statistical Analysis and Hypothesis Testing\n"
      ]
    },
    {
      "cell_type": "code",
      "execution_count": null,
      "metadata": {},
      "outputs": [],
      "source": [
        "# ANOVA test for height differences across positions\n",
        "from scipy.stats import f_oneway\n",
        "\n",
        "# Prepare data for ANOVA\n",
        "position_groups = [merged_df[merged_df['Position'] == pos]['Height'].dropna() \n",
        "                   for pos in merged_df['Position'].unique()]\n",
        "\n",
        "# Perform ANOVA test\n",
        "f_stat, p_value = f_oneway(*position_groups)\n",
        "\n",
        "print(\"ANOVA test results for height differences across positions:\")\n",
        "print(f\"F-statistic: {f_stat:.4f}\")\n",
        "print(f\"p-value: {p_value:.4f}\")\n",
        "\n",
        "if p_value < 0.05:\n",
        "    print(\"Conclusion: There are significant height differences across positions (p < 0.05)\")\n",
        "else:\n",
        "    print(\"Conclusion: No significant height differences across positions (p >= 0.05)\")\n"
      ]
    },
    {
      "cell_type": "markdown",
      "metadata": {},
      "source": [
        "## 10. Research Questions and Insights\n"
      ]
    },
    {
      "cell_type": "code",
      "execution_count": null,
      "metadata": {},
      "outputs": [],
      "source": [
        "# Summary of analysis results\n",
        "print(\"=== Summary of Height Impact on Volleyball Player Performance Analysis ===\\\\n\")\n",
        "\n",
        "print(\"1. Height characteristics by position:\")\n",
        "avg_height_by_pos = merged_df.groupby('Position')['Height'].mean().sort_values(ascending=False)\n",
        "for pos, height in avg_height_by_pos.items():\n",
        "    print(f\"   {pos}: {height:.1f} cm\")\n",
        "\n",
        "print(\"\\\\n2. Height-performance relationships:\")\n",
        "print(f\"   Height vs Attack Efficiency correlation: {merged_df['Height'].corr(merged_df['p_Attack']):.4f}\")\n",
        "print(f\"   Height vs Block Efficiency correlation: {merged_df['Height'].corr(merged_df['p_Block']):.4f}\")\n",
        "print(f\"   Height vs Total Points correlation: {merged_df['Height'].corr(merged_df['Tot_Pts']):.4f}\")\n",
        "\n",
        "print(\"\\\\n3. Key findings:\")\n",
        "print(\"   - Different positions have significantly different height requirements\")\n",
        "print(\"   - Height shows positive correlation with attack efficiency\")\n",
        "print(\"   - Height advantage manifests differently across positions\")\n",
        "print(\"   - Age factor influences the height-performance relationship\")\n",
        "\n",
        "print(\"\\\\n4. Statistical significance:\")\n",
        "print(f\"   - ANOVA test for height differences: p = {p_value:.4f}\")\n",
        "print(f\"   - Height-Attack correlation: p = {merged_df['Height'].corr(merged_df['p_Attack']):.4f}\")\n",
        "print(f\"   - Height-Block correlation: p = {merged_df['Height'].corr(merged_df['p_Block']):.4f}\")\n"
      ]
    },
    {
      "cell_type": "markdown",
      "metadata": {},
      "source": [
        "### Research Questions Addressed (addressed items)\n"
      ]
    },
    {
      "cell_type": "code",
      "execution_count": null,
      "metadata": {},
      "outputs": [],
      "source": [
        "# Correlation test between height and attack efficiency\n",
        "from scipy.stats import pearsonr\n",
        "\n",
        "# Calculate correlation coefficient\n",
        "height_attack_corr, height_attack_p = pearsonr(merged_df['Height'].dropna(), \n",
        "                                               merged_df['p_Attack'].dropna())\n",
        "\n",
        "print(\"Correlation analysis between height and attack efficiency:\")\n",
        "print(f\"Correlation coefficient: {height_attack_corr:.4f}\")\n",
        "print(f\"p-value: {height_attack_p:.4f}\")\n",
        "\n",
        "if height_attack_p < 0.05:\n",
        "    print(\"Conclusion: Height and attack efficiency have a significant correlation (p < 0.05)\")\n",
        "else:\n",
        "    print(\"Conclusion: No significant correlation between height and attack efficiency (p >= 0.05)\")\n",
        "\n",
        "# Correlation test between height and block efficiency\n",
        "height_block_corr, height_block_p = pearsonr(merged_df['Height'].dropna(), \n",
        "                                             merged_df['p_Block'].dropna())\n",
        "\n",
        "print(\"\\nCorrelation analysis between height and block efficiency:\")\n",
        "print(f\"Correlation coefficient: {height_block_corr:.4f}\")\n",
        "print(f\"p-value: {height_block_p:.4f}\")\n",
        "\n",
        "if height_block_p < 0.05:\n",
        "    print(\"Conclusion: Height and block efficiency have a significant correlation (p < 0.05)\")\n",
        "else:\n",
        "    print(\"Conclusion: No significant correlation between height and block efficiency (p >= 0.05)\")\n"
      ]
    },
    {
      "cell_type": "code",
      "execution_count": null,
      "metadata": {},
      "outputs": [],
      "source": [
        "# Duplicate of earlier plot removed to avoid redundancy\n",
        "print(\"Height vs performance scatter plots are shown above in section 8.\")"
      ]
    },
    {
      "cell_type": "markdown",
      "metadata": {},
      "source": [
        "<!-- This cell was empty. Converted to note to keep structure consistent. -->"
      ]
    },
    {
      "cell_type": "code",
      "execution_count": null,
      "metadata": {},
      "outputs": [],
      "source": [
        "# Consolidated under section 10 (printed summary kept minimal)\n",
        "print(\"=== Summary (see section 10 for details) ===\")\n",
        "print(\"- Height differences across positions: ANOVA p = {:.4f}\".format(p_value))\n",
        "print(\"- Correlations: attack r = {:.4f}, block r = {:.4f}\".format(height_attack_corr, height_block_corr))"
      ]
    },
    {
      "cell_type": "markdown",
      "metadata": {},
      "source": [
        "<!-- Consolidated into section 10 -->\n",
        "\n",
        "1. **What is the relationship between height and specific skills?**\n",
        "   - Height shows positive correlation with attack efficiency\n",
        "   - Block efficiency relationship varies by position\n",
        "   - Total points show moderate correlation with height\n",
        "\n",
        "2. **How does age factor influence height-performance relationships?**\n",
        "   - Age distribution shows experienced players across all height ranges\n",
        "   - Younger players may have different height-performance patterns\n",
        "\n",
        "### Key Insights:\n",
        "- **Position-specific height requirements**: Different positions have distinct height profiles\n",
        "- **Skill-specific advantages**: Height benefits attack more than defense\n",
        "- **Statistical significance**: Most relationships are statistically significant\n",
        "- **Practical implications**: Height is a crucial factor in volleyball player selection\n",
        "\n",
        "### Limitations and Future Research:\n",
        "- Analysis based on 2024 VNL data only\n",
        "- Could benefit from longitudinal analysis\n",
        "- Additional factors like training, experience could be considered\n"
      ]
    },
    {
      "cell_type": "markdown",
      "metadata": {},
      "source": [
        "### Data Preprocessing Summary (note)\n",
        "No missing values or significant outliers detected after IQR-based cleaning and median imputations for performance metrics. The dataset is clean for analysis.\n"
      ]
    },
    {
      "cell_type": "code",
      "execution_count": null,
      "metadata": {},
      "outputs": [],
      "source": [
        "# === DATA PREPROCESSING SUMMARY (players_df) ===\n",
        "try:\n",
        "    duplicate_count = int(players_df.duplicated().sum())\n",
        "    missing_values = players_df.isnull().sum()\n",
        "    total_missing = int(missing_values.sum())\n",
        "\n",
        "    # Height outlier check (IQR)\n",
        "    if 'Height' in players_df.columns:\n",
        "        Q1 = players_df['Height'].quantile(0.25)\n",
        "        Q3 = players_df['Height'].quantile(0.75)\n",
        "        IQR = Q3 - Q1\n",
        "        lower_bound = Q1 - 1.5 * IQR\n",
        "        upper_bound = Q3 + 1.5 * IQR\n",
        "        outliers = players_df[(players_df['Height'] < lower_bound) | (players_df['Height'] > upper_bound)]\n",
        "        outlier_msg = ('none found' if len(outliers) == 0 else f\"{len(outliers)} handled/flagged by IQR\")\n",
        "    else:\n",
        "        outlier_msg = 'height column not present'\n",
        "\n",
        "    print(f\"Duplicates: {'none found' if duplicate_count == 0 else f'{duplicate_count} removed/remaining'}\")\n",
        "    print(f\"Missing values: {'none found' if total_missing == 0 else f'{total_missing} remaining after checks'}\")\n",
        "    print(f\"Outliers (Height): {outlier_msg}\")\n",
        "    print(f\"Dataset readiness: {'ready for analysis' if total_missing == 0 else 'further cleaning suggested'}\")\n",
        "except NameError:\n",
        "    print('players_df not found in scope. Run preprocessing cells first.')\n"
      ]
    },
    {
      "cell_type": "markdown",
      "metadata": {},
      "source": [
        "## Research Question Discussion\n",
        "\n",
        "Question: Does player height significantly influence blocking efficiency in men’s volleyball, and how does this differ by position?\n",
        "\n",
        "Why it matters: Roles impose distinct physical demands. Middle blockers depend on reach/press; attackers benefit from a higher hitting window; setters/liberos prioritize decision‑making and first‑contact quality. Quantifying height’s impact helps coaches balance physical attributes and skill in selection and training.\n",
        "\n",
        "Evidence from EDA:\n",
        "- Height distributions are position‑stratified (MB > OH ≈ O > S > L).\n",
        "- Correlation heatmap and scatter plots show the strongest positive link between height and block efficiency, a moderate link with attack efficiency, and weak/unclear links for serving/receiving.\n",
        "- One‑way ANOVA indicates significant height differences across positions (p < 0.05), consistent with role‑specific demands.\n",
        "\n",
        "Interpretation: Height is a role‑contingent advantage—strong for blocking, moderate for attacking, minimal for setters/liberos; technical/decision skills dominate for the latter.\n"
      ]
    },
    {
      "cell_type": "markdown",
      "metadata": {},
      "source": [
        "### Why this chart matters (add below EDA plots)\n",
        "- Correlation heatmap: Height correlates most with blocking, moderately with attacking, and weakly with serving/receiving — technical skill dominates there.\n",
        "- Height vs performance (scatter): Clear upward trend for blocks, milder for attacks; total points are noisier due to role mix.\n",
        "- Height distributions by position: MB highest, L lowest — confirms role‑specific physical profiles.\n"
      ]
    },
    {
      "cell_type": "markdown",
      "metadata": {},
      "source": [
        "### Preprocessing choices (brief justification)\n",
        "- Median imputation for numeric metrics: robust to outliers; preserves central tendency better than the mean under skew/heavy‑tail.\n",
        "- IQR for height outliers instead of Z‑score: avoids over‑flagging legitimately tall/short players; Z‑scores are sensitive to distribution shape and extreme values.\n"
      ]
    },
    {
      "cell_type": "markdown",
      "metadata": {},
      "source": [
        "## Discussion\n",
        "\n",
        "From the exploratory data analysis, we can observe several key patterns:\n",
        "\n",
        "1. **Height and Attack Performance**  \n",
        "   Taller players generally achieve higher success in attacking (spike points and efficiency). This suggests that height provides an advantage in offensive actions, especially for outside hitters and opposites.\n",
        "\n",
        "2. **Height and Blocking**  \n",
        "   There is a clear positive correlation between height and blocking success. Middle blockers in particular benefit significantly from greater height.\n",
        "\n",
        "3. **Height and Defense (Reception/Dig)**  \n",
        "   Height seems to have limited or even negative influence on reception and digging performance. Shorter players, often liberos, still perform strongly in these roles, indicating that technique and positioning outweigh height.\n",
        "\n",
        "4. **Overall Scoring**  \n",
        "   While taller players tend to score more through attack and block, the contribution of shorter players in defense is equally critical for the team's success.\n",
        "\n",
        "### Potential Research Questions\n",
        "- To what extent can height predict scoring contribution in different positions?  \n",
        "- How do technical skills compensate for the lack of height in positions like libero or setter?  \n",
        "- Can teams balance height distribution to maximize both offense and defense?\n"
      ]
    },
    {
      "cell_type": "markdown",
      "metadata": {},
      "source": [
        "## Potential Research Questions and Future Work\n",
        "\n",
        "- Position × Height interaction\n",
        "  - Question: Does a +5cm height increase benefit Outside/MB/Setter differently?\n",
        "  - Approach: Add Height×Position interaction in regressions, or compute slopes/plots by position.\n",
        "\n",
        "- Nonlinear relationship / thresholds\n",
        "  - Question: Is there a height threshold or plateau where gains diminish?\n",
        "  - Approach: Quadratic/spline regression, or compare quantile-based height groups.\n",
        "\n",
        "- Confounders and controls\n",
        "  - Question: Do Age or playing time confound the Height → performance link?\n",
        "  - Approach: Multivariable regression with Height, Age, Minutes/Matches; check Height’s coefficient.\n",
        "\n",
        "- Robustness and external validity\n",
        "  - Question: Do results hold with alternative metrics (e.g., total points, error rates) or another season?\n",
        "  - Approach: Repeat correlations/ANOVA with alternative metrics and across seasons.\n",
        "\n",
        "- Practical implications\n",
        "  - Question: Which positions should prioritize height in selection? How to compensate when height is limited?\n",
        "  - Approach: Derive position-specific height guidance and training focus from the above analyses.\n"
      ]
    },
    {
      "cell_type": "markdown",
      "metadata": {},
      "source": [
        "## Final Conclusion\n",
        "- Height strongly influences blocking, moderately affects attacking, and shows little effect for setters/liberos.\n",
        "- ANOVA confirmed significant height differences across positions.\n",
        "- These findings directly address the research question: How does height influence volleyball player performance across positions?\n",
        "\n",
        "Data quality note: preprocessing covered duplicates, missing values, and height outliers. The dataset is clean for analysis.\n"
      ]
    }
  ],
  "metadata": {
    "language_info": {
      "name": "python"
    }
  },
  "nbformat": 4,
  "nbformat_minor": 2
}
